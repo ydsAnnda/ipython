{
 "cells": [
  {
   "cell_type": "code",
   "execution_count": 12,
   "metadata": {
    "collapsed": false
   },
   "outputs": [
    {
     "name": "stderr",
     "output_type": "stream",
     "text": []
    },
    {
     "name": "stdout",
     "output_type": "stream",
     "text": []
    },
    {
     "data": {
      "text/plain": [
       "Array((info,1), (2015-03-29,1), (23:40:47,990,1), (pythonexecutor.py:118,1), (-,1))"
      ]
     },
     "execution_count": 12,
     "metadata": {},
     "output_type": "execute_result"
    }
   ],
   "source": [
    "val words = sc.textFile(\"file:///var/log/ambari-agent/ambari-agent.log\")\n",
    " .flatMap(line => line.toLowerCase().split(\" \"))\n",
    " .map(word => (word, 1))\n",
    "words.take(5)"
   ]
  }
 ],
 "metadata": {
  "kernelspec": {
   "display_name": "Scala 2.10.4",
   "language": "scala",
   "name": "scala"
  },
  "language_info": {
   "name": "scala",
   "version": "2.10.4"
  }
 },
 "nbformat": 4,
 "nbformat_minor": 0
}

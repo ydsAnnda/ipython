{
 "cells": [
  {
   "cell_type": "code",
   "execution_count": 1,
   "metadata": {
    "collapsed": false
   },
   "outputs": [],
   "source": [
    "from pyspark import SparkContext, SparkConf\n",
    "sc = SparkContext(conf = SparkConf().setMaster(\"yarn-client\").setAppName(\"app\").set(\"spark.executor.memory\", \"512M\"))"
   ]
  },
  {
   "cell_type": "code",
   "execution_count": 2,
   "metadata": {
    "collapsed": false
   },
   "outputs": [],
   "source": [
    "import pydoop.hdfs as hdfs\n",
    "hdfs.put('/var/log/ambari-agent/ambari-agent.log', '.')"
   ]
  },
  {
   "cell_type": "code",
   "execution_count": 3,
   "metadata": {
    "collapsed": false
   },
   "outputs": [
    {
     "data": {
      "text/plain": [
       "[(u'and', 6), (u'reset', 3), (u'old', 10), (u'file', 104), (u'tar', 14)]"
      ]
     },
     "execution_count": 3,
     "metadata": {},
     "output_type": "execute_result"
    }
   ],
   "source": [
    "words = sc.textFile('ambari-agent.log') \\\n",
    " .flatMap(lambda x: x.lower().split(' ')) \\\n",
    " .filter(lambda x: x.isalpha()).map(lambda x: (x, 1)) \\\n",
    " .reduceByKey(lambda a,b: a+b)\n",
    "    \n",
    "words.take(5)"
   ]
  },
  {
   "cell_type": "code",
   "execution_count": 5,
   "metadata": {
    "collapsed": false
   },
   "outputs": [
    {
     "data": {
      "image/png": "[encoded data removed]",
      "text/plain": [
       "<matplotlib.figure.Figure at 0x7f22e411ded0>"
      ]
     },
     "metadata": {},
     "output_type": "display_data"
    }
   ],
   "source": [
    "# Graph the distribution of word counts\n",
    "plt.xlabel('counts')\n",
    "plt.ylabel('frequency')\n",
    "n, bins, patches = plt.hist([x[1] for x in words.collect()],7)"
   ]
  },
  {
   "cell_type": "code",
   "execution_count": 6,
   "metadata": {
    "collapsed": false
   },
   "outputs": [
    {
     "data": {
      "image/png": "[encoded data removed]",
      "text/plain": [
       "<matplotlib.figure.Figure at 0x7f22e411d150>"
      ]
     },
     "metadata": {},
     "output_type": "display_data"
    }
   ],
   "source": [
    "# Is there a relationship between word length and frequency?\n",
    "x,y=[],[]\n",
    "for word in words.collect():\n",
    "  y.append(word[1]) # frequency\n",
    "  x.append(len(word[0])) # word length\n",
    "plot = plt.figure().add_subplot(121).scatter(x,y,s=5)"
   ]
  }
 ],
 "metadata": {
  "kernelspec": {
   "display_name": "Python 2",
   "language": "python",
   "name": "python2"
  },
  "language_info": {
   "codemirror_mode": {
    "name": "ipython",
    "version": 2
   },
   "file_extension": ".py",
   "mimetype": "text/x-python",
   "name": "python",
   "nbconvert_exporter": "python",
   "pygments_lexer": "ipython2",
   "version": "2.7.9"
  }
 },
 "nbformat": 4,
 "nbformat_minor": 0
}

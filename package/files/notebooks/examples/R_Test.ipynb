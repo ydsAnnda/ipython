{
 "cells": [
  {
   "cell_type": "code",
   "execution_count": 1,
   "metadata": {
    "collapsed": false
   },
   "outputs": [
    {
     "name": "stderr",
     "output_type": "stream",
     "text": [
      "Loading required package: rmr2\n",
      "Please review your hadoop settings. See help(hadoop.settings)\n"
     ]
    },
    {
     "data": {
      "text/plain": [
       "NULL"
      ]
     },
     "execution_count": 1,
     "metadata": {},
     "output_type": "execute_result"
    },
    {
     "data": {
      "text/plain": [
       "33 36 37 38 39 40 41 42 43 44 45 46 47 48 49 50 51 52 53 54 55 56 57 58 59 60 \n",
       " 1  1  2  2  4  2  6 13 13 17 20 28 36 34 41 41 34 39 30 40 32 21 10 10  8  5 \n",
       "61 62 63 64 \n",
       " 6  2  1  1 "
      ]
     },
     "execution_count": 1,
     "metadata": {},
     "output_type": "execute_result"
    },
    {
     "name": "stdout",
     "output_type": "stream",
     "text": [
      "[1] \"/tmp/file6528667bbfa3\"\n",
      "$key\n",
      " [1] 36 37 38 39 40 41 42 43 44 45 46 47 48 49 50 51 52 53 54 55 56 57 58 59 60\n",
      "[26] 61 63 68\n",
      "\n",
      "$val\n",
      " [1]  4  1  3  4  7  5 11 16 15 19 31 26 41 38 49 43 35 41 24 25  9 19 13  7  7\n",
      "[26]  5  1  1\n",
      "\n"
     ]
    }
   ],
   "source": [
    "Sys.setenv(HADOOP_STREAMING=\"/usr/hdp/current/hadoop-mapreduce-client/hadoop-streaming.jar\")\n",
    "Sys.setenv(HADOOP_CMD=\"/usr/bin/hadoop\")\n",
    "\n",
    "require('rmr2')\n",
    "rmr.options (\n",
    "   backend.parameters = list (\n",
    "     hadoop = list (\n",
    "       D = \"mapreduce.map.java.opts=-Xmx800M\",\n",
    "       D = \"mapreduce.reduce.java.opts=-Xmx800M\",\n",
    "       D = \"mapreduce.map.memory.mb=2000\",\n",
    "       D = \"mapreduce.reduce.memory.mb=2000\",\n",
    "       D = \"mapreduce.task.io.sort.mb=64\"\n",
    "     )\n",
    "   )\n",
    ")\n",
    "\n",
    "groups = rbinom(100, n = 500, prob = 0.5)\n",
    "tapply(groups, groups, length)\n",
    "\n",
    "groups = rbinom(100, n = 500, prob = 0.5)\n",
    "groups = to.dfs(groups)\n",
    "result = mapreduce(input = groups, map = function(k,v) keyval(v, 1), reduce = function(k,vv) keyval(k,length(vv)))\n",
    "print(result())\n",
    "print(from.dfs(result))"
   ]
  }
 ],
 "metadata": {
  "kernelspec": {
   "display_name": "R",
   "language": "",
   "name": "r"
  },
  "language_info": {
   "codemirror_mode": "r",
   "file_extension": ".r",
   "mimetype": "text/x-r-source",
   "name": "R",
   "pygments_lexer": "r",
   "version": "3.1.3"
  }
 },
 "nbformat": 4,
 "nbformat_minor": 0
}
